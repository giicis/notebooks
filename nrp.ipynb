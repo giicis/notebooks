{
 "cells": [
  {
   "cell_type": "markdown",
   "id": "1f43d90e-a2a1-49a7-a9f1-f79c1d0ea2a5",
   "metadata": {},
   "source": [
    "# Problem definition\n",
    "A big problem in every software development project is to determine a set of requirements which satisfies all parts involved (stakeholders). The next release problem (NRP) provides a formal mathematical model to this problem. This problems aims to find a subset of requirements or stakeholders that optimize a wanted attribute, such as profit or cost.\n",
    "NRP can be reduced to the knapsack problem which, in the end, is a NP-Hard problem.\n",
    "\n",
    "## Formal definition of NRP Mono-Objective\n",
    "\n",
    "The problem can be addressed as a mixed integer linear programming (MILP) model. The next model assumes that the decision maker wants to maximize the profit subject to a cost restriction. \n",
    "\n",
    "- Let $S$ be the set of stakeholders with $|S| = n$\n",
    "- Let $R$ be the set of requierements with $|R| = m$\n",
    "- Let $ p $ be the max cost affordable.\n",
    "- Let $ X = [x_1 , x_2 , … ,x_n ] $ be a binary array where the value of the cell $ i = 1$ if $i$ requirement if implemented. $ 0 $ otherwise \n",
    "- Let $ Y = [y_1, y_2,…,y_m] $ be a binary array where the value of the cell $ j = 1$ if the $j$ stakeholder is satisfied (that means, all of his requirement are implemented in the next release). $0$ otherwise.\n",
    "- Let $ C = [c_1, c_2, …, c_n ] $ be an array of cost per requirement.\n",
    "- Let $B = [b_1, b_2 ,… ,b_m] $ the profit of satisfy a stakeholder\n",
    "- Let $P$ be the precedence relation between $(i,j)$ where $i,j$ are requirements; meaning that $i$ requirement must be selected if $j$ requirement is selected.\n",
    "- Let $ I $ be the interest relation $(i,k)$ where $k$ stakeholder has interest over $i$ requierement.\n",
    "\n",
    "With this parameters, the model looks like:\n",
    "\n",
    "$$\n",
    "max \\ f(Y) = \\sum_{i \\in S} b_i \\cdot y_i\n",
    "$$\n",
    "subject to:\n",
    "\n",
    "1) A cost restriction. The cost of implementing each requierement needs to be less than the max cost affordable\n",
    "$$\n",
    "\\sum_{j \\in R} c_j \\cdot x_j \\leq p\n",
    "$$\n",
    "\n",
    "2) A precedence restriction. If requierement $x_j$ needs to be implemented (i.e. $x_j = 1$) $x_i$ must be equal to 1 in order to not violate this restriction\n",
    "$$\n",
    "x_i \\geq x_j \\quad \\forall (i,j) \\in P\n",
    "$$\n",
    "\n",
    "3) An interest constraint. This restriction is used to set $y_k$ if requierement $x_i$ is implemented. Since the objetive funcition is a maximization, if $x_i$ is implemented, $y_k$ is automatically  set to 1 because it maximize the objetive.\n",
    "$$\n",
    "x_i \\geq y_k \\quad \\forall (i,k) \\in I\n",
    "$$\n",
    "\n",
    "4) Binary constraints\n",
    "$$\n",
    "X \\in \\{0,1\\}^n\n",
    "$$\n",
    "$$\n",
    "Y \\in \\{0,1\\}^n\n",
    "$$"
   ]
  },
  {
   "cell_type": "markdown",
   "id": "6ea3adb8-85c3-42ac-8f2e-c53ef93bd507",
   "metadata": {},
   "source": [
    "# Implementing NRP in python\n",
    "We'll be using python to find an optimal solution of this problem. \n",
    "Why python you may ask. The answer is python has an excellent collection of libraries to model the problem. Moreover, these libraries are capable of calling  low level solvers such as CBC or CPLEX to solve the problem.\n",
    "\n",
    "We are renaming the parameters in order to achieve a more readeable code.\n",
    "\n",
    "First, let's begin with importing the needing libraries"
   ]
  },
  {
   "cell_type": "code",
   "execution_count": 2,
   "id": "4eb19ec2-8799-46b4-ad9f-c4d966958863",
   "metadata": {},
   "outputs": [],
   "source": [
    "import pyomo.environ as pyo\n",
    "from pyomo.environ import AbstractModel"
   ]
  },
  {
   "cell_type": "markdown",
   "id": "773d843f-9caa-4be1-8f28-00430b1deff6",
   "metadata": {},
   "source": [
    "[Pyomo](http://www.pyomo.org/) is a library that provide common language for modelling and is able to call different solvers."
   ]
  },
  {
   "cell_type": "code",
   "execution_count": 3,
   "id": "4908d8f1-17d2-4535-a92f-1b0900df02da",
   "metadata": {},
   "outputs": [],
   "source": [
    "# Create and abstract model\n",
    "nrp_abs = pyo.AbstractModel()\n",
    "\n",
    "# Assign parameters to the model\n",
    "nrp_abs.number_of_requirements = pyo.Param(within=pyo.NonNegativeIntegers)\n",
    "nrp_abs.number_of_stakeholders = pyo.Param(within=pyo.NonNegativeIntegers)\n",
    "nrp_abs.max_cost = pyo.Param(within=pyo.NonNegativeIntegers, mutable=True)\n",
    "\n",
    "# Sets used to maintain data of customers and requeriments\n",
    "nrp_abs.requirements = pyo.RangeSet(1, nrp_abs.number_of_requirements)\n",
    "nrp_abs.stakeholders = pyo.RangeSet(1, nrp_abs.number_of_stakeholders)\n",
    "\n",
    "\n",
    "# Parameters for the model\n",
    "nrp_abs.profit = pyo.Param(nrp_abs.stakeholders)  # Profit of each customer if it is satisfied\n",
    "nrp_abs.cost = pyo.Param(nrp_abs.requirements)  # Cost of implementing each requierement\n",
    "\n",
    "\n",
    "# (i,j) requierement i should be implemented if j is implemented\n",
    "# Set is within the cross product of Requierements X Requierements\n",
    "nrp_abs.precedence = pyo.Set(within=nrp_abs.requirements * nrp_abs.requirements)\n",
    "# (i,k) this relation exists if stakeholder k has interest on requierement i\n",
    "nrp_abs.interest = pyo.Set(within=nrp_abs.stakeholders * nrp_abs.requirements)\n",
    "\n",
    "# Creation of variables\n",
    "# x = 1 if requierement i is implemented in the next release, otherwise 0\n",
    "nrp_abs.x = pyo.Var(nrp_abs.requirements, domain=pyo.Binary)\n",
    "# y = 1 if all customer requierements are satisfied in the next release, otherwise 0\n",
    "nrp_abs.y = pyo.Var(nrp_abs.stakeholders, domain=pyo.Binary)\n",
    "\n",
    "# Objetive function\n",
    "def obj_expression(nrp: AbstractModel):\n",
    "    # Model should maximize profit of the next release\n",
    "    return pyo.summation(nrp.profit, nrp.y)\n",
    "nrp_abs.OBJ = pyo.Objective(rule=obj_expression, sense=pyo.maximize)\n",
    "\n",
    "\n",
    "# Defintion of cost constraint rule\n",
    "def cost_constraint_rule(nrp: AbstractModel):\n",
    "    # Cost should be maintened under a predefined cost\n",
    "    return pyo.summation(nrp.cost, nrp.x) <= nrp.max_cost\n",
    "nrp_abs.cost_constraint = pyo.Constraint(rule=cost_constraint_rule)\n",
    "\n",
    "\n",
    "# Defition of precedence constraint\n",
    "def precedence_constraint_rule(nrp: AbstractModel, i: int, j: int):\n",
    "    return nrp.x[i] >= nrp.x[j]\n",
    "nrp_abs.precedence_constraint = pyo.Constraint(nrp_abs.precedence, rule=precedence_constraint_rule)\n",
    "\n",
    "# Definition of interest constraint\n",
    "# Each tuple in nrp.dat.interest is inverted, so the constraint is also inverted\n",
    "def interest_constraint_rule(nrp: AbstractModel, i: int, k: int):\n",
    "    return nrp.y[i] <= nrp.x[k]\n",
    "nrp_abs.interest_constraint = pyo.Constraint(nrp_abs.interest, rule=interest_constraint_rule)"
   ]
  },
  {
   "cell_type": "markdown",
   "id": "9909d89a-835f-46ec-af78-ecaa38104294",
   "metadata": {},
   "source": [
    "Now, we have an abstract model. This is very powerful since now, we can provide differnt dataset to see how the model performs.\n",
    "\n",
    "Lets fill the model with actual data and solve it."
   ]
  },
  {
   "cell_type": "code",
   "execution_count": 4,
   "id": "7adade3a-5346-4f4e-aea7-4423d7737285",
   "metadata": {},
   "outputs": [],
   "source": [
    "data_file_path = './datasets/nrp.dat'\n",
    "nrp_concrete = nrp_abs.create_instance(data_file_path)"
   ]
  },
  {
   "cell_type": "markdown",
   "id": "6978668d-6f20-4336-b547-ecd020e731b5",
   "metadata": {},
   "source": [
    "## Solving the model\n",
    "We are using [CBC](https://github.com/coin-or/Cbc) beacuste it's an open source and fast, but if you desire you can use different solvers."
   ]
  },
  {
   "cell_type": "code",
   "execution_count": 5,
   "id": "1c7fbac2-931d-4af4-8b66-9c0e326119c8",
   "metadata": {},
   "outputs": [
    {
     "name": "stdout",
     "output_type": "stream",
     "text": [
      "# ==========================================================\n",
      "# = Solver Results                                         =\n",
      "# ==========================================================\n",
      "# ----------------------------------------------------------\n",
      "#   Problem Information\n",
      "# ----------------------------------------------------------\n",
      "Problem: \n",
      "- Name: unknown\n",
      "  Lower bound: 70.0\n",
      "  Upper bound: 70.0\n",
      "  Number of objectives: 1\n",
      "  Number of constraints: 8\n",
      "  Number of variables: 6\n",
      "  Number of binary variables: 7\n",
      "  Number of integer variables: 7\n",
      "  Number of nonzeros: 2\n",
      "  Sense: maximize\n",
      "# ----------------------------------------------------------\n",
      "#   Solver Information\n",
      "# ----------------------------------------------------------\n",
      "Solver: \n",
      "- Status: ok\n",
      "  User time: -1.0\n",
      "  System time: 0.01\n",
      "  Wallclock time: 0.01\n",
      "  Termination condition: optimal\n",
      "  Termination message: Model was solved to optimality (subject to tolerances), and an optimal solution is available.\n",
      "  Statistics: \n",
      "    Branch and bound: \n",
      "      Number of bounded subproblems: 0\n",
      "      Number of created subproblems: 0\n",
      "    Black box: \n",
      "      Number of iterations: 0\n",
      "  Error rc: 0\n",
      "  Time: 0.03318333625793457\n",
      "# ----------------------------------------------------------\n",
      "#   Solution Information\n",
      "# ----------------------------------------------------------\n",
      "Solution: \n",
      "- number of solutions: 0\n",
      "  number of solutions displayed: 0\n"
     ]
    }
   ],
   "source": [
    "from pyomo.environ import SolverFactory\n",
    "\n",
    "nrp_concrete.max_cost = 80\n",
    "\n",
    "\n",
    "solver = SolverFactory('cbc')\n",
    "\n",
    "res = solver.solve(nrp_concrete)\n",
    "res.write()"
   ]
  },
  {
   "cell_type": "markdown",
   "id": "c4dbb95e-86a5-44a1-9f1a-ae720b4abbf8",
   "metadata": {},
   "source": [
    "## Exploring the solution\n",
    "We can see the whole model using `pyo.display(nrp_concrete)` or we can use `pyo.display` on the parts  where we have interest"
   ]
  },
  {
   "cell_type": "code",
   "execution_count": 6,
   "id": "c8543ca5-0db3-4946-9313-20ccab9e6e50",
   "metadata": {},
   "outputs": [
    {
     "name": "stdout",
     "output_type": "stream",
     "text": [
      "OBJ : Size=1, Index=None, Active=True\n",
      "    Key  : Active : Value\n",
      "    None :   True :  70.0\n"
     ]
    }
   ],
   "source": [
    "# Print the value of the objetive function\n",
    "pyo.display(nrp_concrete.OBJ)"
   ]
  },
  {
   "cell_type": "code",
   "execution_count": 7,
   "id": "8cfd3fca-0820-4469-b8a2-6758ea1e0e41",
   "metadata": {},
   "outputs": [
    {
     "name": "stdout",
     "output_type": "stream",
     "text": [
      "x : Size=5, Index=requirements\n",
      "    Key : Lower : Value : Upper : Fixed : Stale : Domain\n",
      "      1 :     0 :   1.0 :     1 : False : False : Binary\n",
      "      2 :     0 :   1.0 :     1 : False : False : Binary\n",
      "      3 :     0 :   0.0 :     1 : False : False : Binary\n",
      "      4 :     0 :   0.0 :     1 : False : False : Binary\n",
      "      5 :     0 :   1.0 :     1 : False : False : Binary\n"
     ]
    }
   ],
   "source": [
    "# Dipslay of variables asociated to requierements\n",
    "# Value == 1 means the requieremnt is implemented\n",
    "pyo.display(nrp_concrete.x)"
   ]
  },
  {
   "cell_type": "code",
   "execution_count": 8,
   "id": "f728e541-9102-48be-b0fb-c21a8f15de96",
   "metadata": {},
   "outputs": [
    {
     "name": "stdout",
     "output_type": "stream",
     "text": [
      "cost_constraint : Size=1\n",
      "    Key  : Lower : Body : Upper\n",
      "    None :  None : 80.0 :    80\n"
     ]
    }
   ],
   "source": [
    "# Print information about cost constraint\n",
    "# In this case, we are in the upper limit of the constraint\n",
    "pyo.display(nrp_concrete.cost_constraint)"
   ]
  },
  {
   "cell_type": "code",
   "execution_count": 9,
   "id": "3a3eb492-3759-46f7-9024-5a539362ae63",
   "metadata": {},
   "outputs": [
    {
     "name": "stdout",
     "output_type": "stream",
     "text": [
      "precedence_constraint : Size=2\n",
      "    Key    : Lower : Body : Upper\n",
      "    (1, 3) :  None : -1.0 :   0.0\n",
      "    (1, 5) :  None :  0.0 :   0.0\n"
     ]
    }
   ],
   "source": [
    "# We can print the state of the precedence constraint\n",
    "# If body == -1 it means that the only the precedende requierement is implemented\n",
    "# If body == 0 it means that none or both of the requierements are implemented\n",
    "pyo.display(nrp_concrete.precedence_constraint)"
   ]
  },
  {
   "cell_type": "code",
   "execution_count": 10,
   "id": "083c859c-acd7-4538-9a94-7c88738ac7e2",
   "metadata": {},
   "outputs": [
    {
     "name": "stdout",
     "output_type": "stream",
     "text": [
      "y : Size=2, Index=stakeholders\n",
      "    Key : Lower : Value : Upper : Fixed : Stale : Domain\n",
      "      1 :     0 :   1.0 :     1 : False : False : Binary\n",
      "      2 :     0 :   0.0 :     1 : False : False : Binary\n"
     ]
    }
   ],
   "source": [
    "# To see which stakeholders are satisfied\n",
    "# If value == 1 it is satisfied\n",
    "pyo.display(nrp_concrete.y)"
   ]
  },
  {
   "cell_type": "markdown",
   "id": "bd681a85-a430-443d-968f-d340faa2b400",
   "metadata": {},
   "source": [
    "## Using pyomo features\n",
    "Using pyomo brings up a lot of features like changing parameter's model once created. We can see different different results with only a few lines of code. "
   ]
  },
  {
   "cell_type": "code",
   "execution_count": 11,
   "id": "7faaf9f4-ed9d-4c95-8e15-244eee3395e7",
   "metadata": {},
   "outputs": [
    {
     "name": "stdout",
     "output_type": "stream",
     "text": [
      "Model unknown\n",
      "\n",
      "  Variables:\n",
      "    x : Size=5, Index=requirements\n",
      "        Key : Lower : Value : Upper : Fixed : Stale : Domain\n",
      "          1 :     0 :   1.0 :     1 : False : False : Binary\n",
      "          2 :     0 :   1.0 :     1 : False : False : Binary\n",
      "          3 :     0 :   1.0 :     1 : False : False : Binary\n",
      "          4 :     0 :   0.0 :     1 : False : False : Binary\n",
      "          5 :     0 :   1.0 :     1 : False : False : Binary\n",
      "    y : Size=2, Index=stakeholders\n",
      "        Key : Lower : Value : Upper : Fixed : Stale : Domain\n",
      "          1 :     0 :   1.0 :     1 : False : False : Binary\n",
      "          2 :     0 :   1.0 :     1 : False : False : Binary\n",
      "\n",
      "  Objectives:\n",
      "    OBJ : Size=1, Index=None, Active=True\n",
      "        Key  : Active : Value\n",
      "        None :   True : 120.0\n",
      "\n",
      "  Constraints:\n",
      "    cost_constraint : Size=1\n",
      "        Key  : Lower : Body  : Upper\n",
      "        None :  None : 100.0 :   200\n",
      "    precedence_constraint : Size=2\n",
      "        Key    : Lower : Body : Upper\n",
      "        (1, 3) :  None :  0.0 :   0.0\n",
      "        (1, 5) :  None :  0.0 :   0.0\n",
      "    interest_constraint : Size=5\n",
      "        Key    : Lower : Body : Upper\n",
      "        (1, 2) :  None :  0.0 :   0.0\n",
      "        (1, 5) :  None :  0.0 :   0.0\n",
      "        (2, 1) :  None :  0.0 :   0.0\n",
      "        (2, 3) :  None :  0.0 :   0.0\n",
      "        (2, 5) :  None :  0.0 :   0.0\n"
     ]
    }
   ],
   "source": [
    "nrp_concrete.max_cost = 200\n",
    "res = solver.solve(nrp_concrete)\n",
    "pyo.display(nrp_concrete)"
   ]
  }
 ],
 "metadata": {
  "kernelspec": {
   "display_name": "Python 3 (ipykernel)",
   "language": "python",
   "name": "python3"
  },
  "language_info": {
   "codemirror_mode": {
    "name": "ipython",
    "version": 3
   },
   "file_extension": ".py",
   "mimetype": "text/x-python",
   "name": "python",
   "nbconvert_exporter": "python",
   "pygments_lexer": "ipython3",
   "version": "3.8.10"
  }
 },
 "nbformat": 4,
 "nbformat_minor": 5
}
