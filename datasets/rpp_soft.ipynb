{
 "cells": [
  {
   "cell_type": "markdown",
   "id": "ff5ceb6e-bc5f-452a-baee-b47ac74e7c84",
   "metadata": {},
   "source": [
    "# Problem definition"
   ]
  },
  {
   "cell_type": "code",
   "execution_count": 1,
   "id": "2d112cd3-fd15-44e8-bc5a-8788eeaf07da",
   "metadata": {},
   "outputs": [],
   "source": [
    "import pyomo.environ as pyo\n",
    "\n",
    "\"\"\"\"\n",
    "Creates an abstract model of rpp problem with soft constraints\n",
    "\"\"\"\n",
    "\n",
    "# Create an abstract model\n",
    "rpp = pyo.AbstractModel()\n",
    "\n",
    "# Unidimensional parameters\n",
    "rpp.number_of_requierements = pyo.Param(within=pyo.NonNegativeIntegers)\n",
    "rpp.number_of_stakeholders = pyo.Param(within=pyo.NonNegativeIntegers)\n",
    "rpp.number_of_releases = pyo.Param(within=pyo.NonNegativeIntegers)\n",
    "rpp.pd = pyo.Param(within=pyo.NonNegativeIntegers)\n",
    "rpp.pe = pyo.Param(within=pyo.NonNegativeIntegers)\n",
    "\n",
    "# Vectors n positions\n",
    "rpp.requierements = pyo.RangeSet(1, rpp.number_of_requierements)\n",
    "rpp.stakeholders = pyo.RangeSet(1, rpp.number_of_stakeholders)\n",
    "# What remains in the last one, will be implemented in the future\n",
    "rpp.releases = pyo.RangeSet(1, rpp.number_of_releases)\n",
    "\n",
    "# Store (i,j) where i requierement must be implemented if j requierement is implemented\n",
    "rpp.precedence = pyo.Set(within=rpp.requierements * rpp.requierements)\n",
    "# (i,j) exists if i stakeholder has interest in j requierement\n",
    "rpp.interest = pyo.Set(within=rpp.stakeholders * rpp.requierements)\n",
    "# For each requierement, store requiered efford to implement it\n",
    "rpp.efforts = pyo.Param(rpp.requierements)\n",
    "# For each stakeholder, store profit gained if all of his requierements are implemented\n",
    "rpp.profit = pyo.Param(rpp.stakeholders, domain=pyo.NonNegativeIntegers)\n",
    "\n",
    "def A_init(rpp, s, i):\n",
    "    \"\"\"\n",
    "    1 if s stakeholder has interest over i requierement\n",
    "    0 otherwise\n",
    "    \"\"\"\n",
    "    if (s, i) in rpp.interest:\n",
    "        return 1\n",
    "    else:\n",
    "        return 0\n",
    "# Priority matrix where a_si is the priority of s stakeholder  over i  requierement\n",
    "rpp.A = pyo.Param(rpp.stakeholders, rpp.requierements, initialize=A_init)\n",
    "\n",
    "# VARIABLES\n",
    "rpp.x = pyo.Var(rpp.requierements, domain=pyo.Integers)\n",
    "rpp.y = pyo.Var(rpp.requierements, rpp.releases, domain=pyo.Binary)\n",
    "rpp.alpha = pyo.Var(bounds=(0, 1))\n",
    "\n",
    "def objetive_function(rpp):\n",
    "    return rpp.alpha\n",
    "rpp.OBJ = pyo.Objective(rule=objetive_function, sense=pyo.maximize)\n",
    "\n",
    "def eq_rep_rule(rpp, i):\n",
    "    return sum(rpp.releases[l] * rpp.y[i, l] for l in rpp.releases) == rpp.x[i]\n",
    "rpp.eq_rep = pyo.Constraint(rpp.requierements, rule=eq_rep_rule)\n",
    "\n",
    "def only_one_rule(rpp, i):\n",
    "    return sum(rpp.y[i, :]) == 1\n",
    "rpp.only_one = pyo.Constraint(rpp.requierements, rule=only_one_rule)\n",
    "\n",
    "def profit_constraint_rule(rpp):\n",
    "    return sum(rpp.profit[c] * sum(rpp.A[c, r] / sum(rpp.A[c, r2] for r2 in rpp.requierements) * \n",
    "                (rpp.number_of_releases - rpp.x[r]) for r in rpp.requierements) \n",
    "                   for c in rpp.stakeholders) >= 5739.48333333334 + (7014.65 - 5739.48333333334) * rpp.alpha\n",
    "rpp.profit_constraint = pyo.Constraint(rule=profit_constraint_rule)\n",
    "\n",
    "def release_soft_rule(rpp, l):\n",
    "    return sum(rpp.efforts[i] * rpp.y[i, l] for i in rpp.requierements) <= rpp.pe - (rpp.pe - rpp.pd) * rpp.alpha\n",
    "rpp.release_soft = pyo.Constraint(pyo.RangeSet(1, rpp.number_of_releases - 1), rule=release_soft_rule)\n",
    "\n",
    "def precedence_constraint_rule(rpp, i, j):\n",
    "    return rpp.x[i] <= rpp.x[j]\n",
    "rpp.precedence_constraint = pyo.Constraint(rpp.precedence, rule=precedence_constraint_rule)"
   ]
  },
  {
   "cell_type": "code",
   "execution_count": 3,
   "id": "b96f4c9b-507e-4b48-b5a8-3403c46b7df9",
   "metadata": {},
   "outputs": [
    {
     "ename": "OSError",
     "evalue": "Cannot find file 'rpp_soft.dat'",
     "output_type": "error",
     "traceback": [
      "\u001b[0;31m---------------------------------------------------------------------------\u001b[0m",
      "\u001b[0;31mOSError\u001b[0m                                   Traceback (most recent call last)",
      "\u001b[0;32m<ipython-input-3-d091983d27e3>\u001b[0m in \u001b[0;36m<module>\u001b[0;34m\u001b[0m\n\u001b[1;32m      1\u001b[0m \u001b[0mdata_file_path\u001b[0m \u001b[0;34m=\u001b[0m \u001b[0;34m'rpp_soft.dat'\u001b[0m\u001b[0;34m\u001b[0m\u001b[0;34m\u001b[0m\u001b[0m\n\u001b[0;32m----> 2\u001b[0;31m \u001b[0mrpp_concrete\u001b[0m \u001b[0;34m=\u001b[0m \u001b[0mrpp\u001b[0m\u001b[0;34m.\u001b[0m\u001b[0mcreate_instance\u001b[0m\u001b[0;34m(\u001b[0m\u001b[0mdata_file_path\u001b[0m\u001b[0;34m)\u001b[0m\u001b[0;34m\u001b[0m\u001b[0;34m\u001b[0m\u001b[0m\n\u001b[0m\u001b[1;32m      3\u001b[0m \u001b[0mrpp_concrete\u001b[0m\u001b[0;34m\u001b[0m\u001b[0;34m\u001b[0m\u001b[0m\n",
      "\u001b[0;32m~/workspace/giicis/giicis-env/lib/python3.8/site-packages/pyomo/core/base/PyomoModel.py\u001b[0m in \u001b[0;36mcreate_instance\u001b[0;34m(self, filename, data, name, namespace, namespaces, profile_memory, report_timing, **kwds)\u001b[0m\n\u001b[1;32m    704\u001b[0m             \u001b[0m_namespaces\u001b[0m\u001b[0;34m.\u001b[0m\u001b[0mappend\u001b[0m\u001b[0;34m(\u001b[0m\u001b[0;32mNone\u001b[0m\u001b[0;34m)\u001b[0m\u001b[0;34m\u001b[0m\u001b[0;34m\u001b[0m\u001b[0m\n\u001b[1;32m    705\u001b[0m \u001b[0;34m\u001b[0m\u001b[0m\n\u001b[0;32m--> 706\u001b[0;31m         instance.load( data,\n\u001b[0m\u001b[1;32m    707\u001b[0m                        \u001b[0mnamespaces\u001b[0m\u001b[0;34m=\u001b[0m\u001b[0m_namespaces\u001b[0m\u001b[0;34m,\u001b[0m\u001b[0;34m\u001b[0m\u001b[0;34m\u001b[0m\u001b[0m\n\u001b[1;32m    708\u001b[0m                        profile_memory=profile_memory )\n",
      "\u001b[0;32m~/workspace/giicis/giicis-env/lib/python3.8/site-packages/pyomo/core/base/PyomoModel.py\u001b[0m in \u001b[0;36mload\u001b[0;34m(self, arg, namespaces, profile_memory, report_timing)\u001b[0m\n\u001b[1;32m    738\u001b[0m                 \"construction timing\")\n\u001b[1;32m    739\u001b[0m         \u001b[0;32mif\u001b[0m \u001b[0marg\u001b[0m \u001b[0;32mis\u001b[0m \u001b[0;32mNone\u001b[0m \u001b[0;32mor\u001b[0m \u001b[0misinstance\u001b[0m\u001b[0;34m(\u001b[0m\u001b[0marg\u001b[0m\u001b[0;34m,\u001b[0m \u001b[0mstr\u001b[0m\u001b[0;34m)\u001b[0m\u001b[0;34m:\u001b[0m\u001b[0;34m\u001b[0m\u001b[0;34m\u001b[0m\u001b[0m\n\u001b[0;32m--> 740\u001b[0;31m             \u001b[0mdp\u001b[0m \u001b[0;34m=\u001b[0m \u001b[0mDataPortal\u001b[0m\u001b[0;34m(\u001b[0m\u001b[0mfilename\u001b[0m\u001b[0;34m=\u001b[0m\u001b[0marg\u001b[0m\u001b[0;34m,\u001b[0m \u001b[0mmodel\u001b[0m\u001b[0;34m=\u001b[0m\u001b[0mself\u001b[0m\u001b[0;34m)\u001b[0m\u001b[0;34m\u001b[0m\u001b[0;34m\u001b[0m\u001b[0m\n\u001b[0m\u001b[1;32m    741\u001b[0m         \u001b[0;32melif\u001b[0m \u001b[0mtype\u001b[0m\u001b[0;34m(\u001b[0m\u001b[0marg\u001b[0m\u001b[0;34m)\u001b[0m \u001b[0;32mis\u001b[0m \u001b[0mDataPortal\u001b[0m\u001b[0;34m:\u001b[0m\u001b[0;34m\u001b[0m\u001b[0;34m\u001b[0m\u001b[0m\n\u001b[1;32m    742\u001b[0m             \u001b[0mdp\u001b[0m \u001b[0;34m=\u001b[0m \u001b[0marg\u001b[0m\u001b[0;34m\u001b[0m\u001b[0;34m\u001b[0m\u001b[0m\n",
      "\u001b[0;32m~/workspace/giicis/giicis-env/lib/python3.8/site-packages/pyomo/dataportal/DataPortal.py\u001b[0m in \u001b[0;36m__init__\u001b[0;34m(self, *args, **kwds)\u001b[0m\n\u001b[1;32m     65\u001b[0m         \u001b[0;32mif\u001b[0m \u001b[0;34m'filename'\u001b[0m \u001b[0;32min\u001b[0m \u001b[0mkwds\u001b[0m\u001b[0;34m:\u001b[0m\u001b[0;34m\u001b[0m\u001b[0;34m\u001b[0m\u001b[0m\n\u001b[1;32m     66\u001b[0m             \u001b[0mfilename\u001b[0m \u001b[0;34m=\u001b[0m \u001b[0mkwds\u001b[0m\u001b[0;34m.\u001b[0m\u001b[0mpop\u001b[0m\u001b[0;34m(\u001b[0m\u001b[0;34m'filename'\u001b[0m\u001b[0;34m)\u001b[0m\u001b[0;34m\u001b[0m\u001b[0;34m\u001b[0m\u001b[0m\n\u001b[0;32m---> 67\u001b[0;31m             \u001b[0mself\u001b[0m\u001b[0;34m.\u001b[0m\u001b[0mconnect\u001b[0m\u001b[0;34m(\u001b[0m\u001b[0mfilename\u001b[0m\u001b[0;34m=\u001b[0m\u001b[0mfilename\u001b[0m\u001b[0;34m,\u001b[0m \u001b[0;34m**\u001b[0m\u001b[0mkwds\u001b[0m\u001b[0;34m)\u001b[0m\u001b[0;34m\u001b[0m\u001b[0;34m\u001b[0m\u001b[0m\n\u001b[0m\u001b[1;32m     68\u001b[0m             \u001b[0mself\u001b[0m\u001b[0;34m.\u001b[0m\u001b[0mload\u001b[0m\u001b[0;34m(\u001b[0m\u001b[0;34m)\u001b[0m\u001b[0;34m\u001b[0m\u001b[0;34m\u001b[0m\u001b[0m\n\u001b[1;32m     69\u001b[0m             \u001b[0mself\u001b[0m\u001b[0;34m.\u001b[0m\u001b[0mdisconnect\u001b[0m\u001b[0;34m(\u001b[0m\u001b[0;34m)\u001b[0m\u001b[0;34m\u001b[0m\u001b[0;34m\u001b[0m\u001b[0m\n",
      "\u001b[0;32m~/workspace/giicis/giicis-env/lib/python3.8/site-packages/pyomo/dataportal/DataPortal.py\u001b[0m in \u001b[0;36mconnect\u001b[0;34m(self, **kwds)\u001b[0m\n\u001b[1;32m    106\u001b[0m             \u001b[0;32mraise\u001b[0m \u001b[0mIOError\u001b[0m\u001b[0;34m(\u001b[0m\u001b[0;34m\"Unknown file format '%s'\"\u001b[0m \u001b[0;34m%\u001b[0m \u001b[0mtmp\u001b[0m\u001b[0;34m)\u001b[0m\u001b[0;34m\u001b[0m\u001b[0;34m\u001b[0m\u001b[0m\n\u001b[1;32m    107\u001b[0m         \u001b[0mself\u001b[0m\u001b[0;34m.\u001b[0m\u001b[0m_data_manager\u001b[0m\u001b[0;34m.\u001b[0m\u001b[0minitialize\u001b[0m\u001b[0;34m(\u001b[0m\u001b[0;34m**\u001b[0m\u001b[0mkwds\u001b[0m\u001b[0;34m)\u001b[0m\u001b[0;34m\u001b[0m\u001b[0;34m\u001b[0m\u001b[0m\n\u001b[0;32m--> 108\u001b[0;31m         \u001b[0mself\u001b[0m\u001b[0;34m.\u001b[0m\u001b[0m_data_manager\u001b[0m\u001b[0;34m.\u001b[0m\u001b[0mopen\u001b[0m\u001b[0;34m(\u001b[0m\u001b[0;34m)\u001b[0m\u001b[0;34m\u001b[0m\u001b[0;34m\u001b[0m\u001b[0m\n\u001b[0m\u001b[1;32m    109\u001b[0m \u001b[0;34m\u001b[0m\u001b[0m\n\u001b[1;32m    110\u001b[0m     \u001b[0;32mdef\u001b[0m \u001b[0mdisconnect\u001b[0m\u001b[0;34m(\u001b[0m\u001b[0mself\u001b[0m\u001b[0;34m)\u001b[0m\u001b[0;34m:\u001b[0m\u001b[0;34m\u001b[0m\u001b[0;34m\u001b[0m\u001b[0m\n",
      "\u001b[0;32m~/workspace/giicis/giicis-env/lib/python3.8/site-packages/pyomo/dataportal/plugins/datacommands.py\u001b[0m in \u001b[0;36mopen\u001b[0;34m(self)\u001b[0m\n\u001b[1;32m     37\u001b[0m             \u001b[0;32mraise\u001b[0m \u001b[0mIOError\u001b[0m\u001b[0;34m(\u001b[0m\u001b[0;34m\"No filename specified\"\u001b[0m\u001b[0;34m)\u001b[0m\u001b[0;34m\u001b[0m\u001b[0;34m\u001b[0m\u001b[0m\n\u001b[1;32m     38\u001b[0m         \u001b[0;32mif\u001b[0m \u001b[0;32mnot\u001b[0m \u001b[0mos\u001b[0m\u001b[0;34m.\u001b[0m\u001b[0mpath\u001b[0m\u001b[0;34m.\u001b[0m\u001b[0mexists\u001b[0m\u001b[0;34m(\u001b[0m\u001b[0mself\u001b[0m\u001b[0;34m.\u001b[0m\u001b[0mfilename\u001b[0m\u001b[0;34m)\u001b[0m\u001b[0;34m:\u001b[0m   \u001b[0;31m#pragma:nocover\u001b[0m\u001b[0;34m\u001b[0m\u001b[0;34m\u001b[0m\u001b[0m\n\u001b[0;32m---> 39\u001b[0;31m             \u001b[0;32mraise\u001b[0m \u001b[0mIOError\u001b[0m\u001b[0;34m(\u001b[0m\u001b[0;34m\"Cannot find file '%s'\"\u001b[0m \u001b[0;34m%\u001b[0m \u001b[0mself\u001b[0m\u001b[0;34m.\u001b[0m\u001b[0mfilename\u001b[0m\u001b[0;34m)\u001b[0m\u001b[0;34m\u001b[0m\u001b[0;34m\u001b[0m\u001b[0m\n\u001b[0m\u001b[1;32m     40\u001b[0m \u001b[0;34m\u001b[0m\u001b[0m\n\u001b[1;32m     41\u001b[0m     \u001b[0;32mdef\u001b[0m \u001b[0mclose\u001b[0m\u001b[0;34m(\u001b[0m\u001b[0mself\u001b[0m\u001b[0;34m)\u001b[0m\u001b[0;34m:\u001b[0m\u001b[0;34m\u001b[0m\u001b[0;34m\u001b[0m\u001b[0m\n",
      "\u001b[0;31mOSError\u001b[0m: Cannot find file 'rpp_soft.dat'"
     ]
    }
   ],
   "source": [
    "data_file_path = 'rpp_soft.dat'\n",
    "rpp_concrete = rpp.create_instance(data_file_path)\n",
    "rpp_concrete"
   ]
  }
 ],
 "metadata": {
  "kernelspec": {
   "display_name": "Python 3",
   "language": "python",
   "name": "python3"
  },
  "language_info": {
   "codemirror_mode": {
    "name": "ipython",
    "version": 3
   },
   "file_extension": ".py",
   "mimetype": "text/x-python",
   "name": "python",
   "nbconvert_exporter": "python",
   "pygments_lexer": "ipython3",
   "version": "3.8.5"
  }
 },
 "nbformat": 4,
 "nbformat_minor": 5
}
