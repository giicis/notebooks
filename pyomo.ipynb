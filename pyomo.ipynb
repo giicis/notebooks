{
 "cells": [
  {
   "cell_type": "code",
   "execution_count": 6,
   "id": "c16f318e-a8f8-4bf6-b703-bfb1fce10329",
   "metadata": {},
   "outputs": [],
   "source": [
    "import pyomo.environ as pyo\n",
    "\n",
    "model = pyo.ConcreteModel()\n",
    "model.x = pyo.Var([1,2], domain=pyo.Integers)\n",
    "model.y = pyo.Var([1], domain=pyo.Binary)\n",
    "model.OBJ = pyo.Objective(expr = -5*model.x[1] - 8*model.x[2] - 9 * model.y[1])\n",
    "model.Constraint1 = pyo.Constraint(expr = model.x[1] + model.x[2] <= 6)\n",
    "model.Constraint2 = pyo.Constraint(expr = 5 * model.x[1] + 9 * model.x[2] <= 45)\n",
    "model.Constraint3 = pyo.Constraint(expr = 1000 * model.y[1] >= model.x[1])"
   ]
  },
  {
   "cell_type": "code",
   "execution_count": 11,
   "id": "5b597103-c2c9-404e-9c97-144dabde1b48",
   "metadata": {},
   "outputs": [
    {
     "name": "stdout",
     "output_type": "stream",
     "text": [
      "Welcome to the CBC MILP Solver \n",
      "Version: 2.10.3 \n",
      "Build Date: Mar 24 2020 \n",
      "\n",
      "command line - /usr/bin/cbc -printingOptions all -import /tmp/tmpxb24__ss.pyomo.lp -stat=1 -solve -solu /tmp/tmpxb24__ss.pyomo.soln (default strategy 1)\n",
      "Option for printingOptions changed from normal to all\n",
      "Presolve 3 (-1) rows, 3 (-1) columns and 6 (-1) elements\n",
      "Statistics for presolved model\n",
      "Original problem has 3 integers (1 of which binary)\n",
      "Presolved problem has 3 integers (1 of which binary)\n",
      "==== 0 zero objective 3 different\n",
      "1 variables have objective of -9\n",
      "1 variables have objective of -8\n",
      "1 variables have objective of -5\n",
      "==== absolute objective values 3 different\n",
      "1 variables have objective of 5\n",
      "1 variables have objective of 8\n",
      "1 variables have objective of 9\n",
      "==== for integers 0 zero objective 3 different\n",
      "1 variables have objective of -9\n",
      "1 variables have objective of -8\n",
      "1 variables have objective of -5\n",
      "==== for integers absolute objective values 3 different\n",
      "1 variables have objective of 5\n",
      "1 variables have objective of 8\n",
      "1 variables have objective of 9\n",
      "===== end objective counts\n",
      "\n",
      "\n",
      "Problem has 3 rows, 3 columns (3 with objective) and 6 elements\n",
      "There are 1 singletons with objective \n",
      "Column breakdown:\n",
      "0 of type 0.0->inf, 0 of type 0.0->up, 0 of type lo->inf, \n",
      "0 of type lo->up, 2 of type free, 0 of type fixed, \n",
      "0 of type -inf->0.0, 0 of type -inf->up, 1 of type 0.0->1.0 \n",
      "Row breakdown:\n",
      "0 of type E 0.0, 0 of type E 1.0, 0 of type E -1.0, \n",
      "0 of type E other, 0 of type G 0.0, 0 of type G 1.0, \n",
      "0 of type G other, 1 of type L 0.0, 0 of type L 1.0, \n",
      "2 of type L other, 0 of type Range 0.0->1.0, 0 of type Range other, \n",
      "0 of type Free \n",
      "Continuous objective value is -50.25 - 0.00 seconds\n",
      "Cgl0003I 0 fixed, 3 tightened bounds, 0 strengthened rows, 0 substitutions\n",
      "Cgl0004I processed model has 2 rows, 2 columns (2 integer (0 of which binary)) and 4 elements\n",
      "Cutoff increment increased from 1e-05 to 0.9999\n",
      "Cbc0012I Integer solution of -43 found by DiveCoefficient after 0 iterations and 0 nodes (0.00 seconds)\n",
      "Cbc0012I Integer solution of -49 found by DiveCoefficient after 1 iterations and 0 nodes (0.00 seconds)\n",
      "Cbc0031I 1 added rows had average density of 2\n",
      "Cbc0013I At root node, 1 cuts changed objective from -50.25 to -49 in 90 passes\n",
      "Cbc0014I Cut generator 0 (Probing) - 0 row cuts average 0.0 elements, 229 column cuts (229 active)  in 0.001 seconds - new frequency is 1\n",
      "Cbc0014I Cut generator 1 (Gomory) - 1 row cuts average 2.0 elements, 0 column cuts (0 active)  in 0.001 seconds - new frequency is 1\n",
      "Cbc0014I Cut generator 2 (Knapsack) - 0 row cuts average 0.0 elements, 0 column cuts (0 active)  in 0.000 seconds - new frequency is -100\n",
      "Cbc0014I Cut generator 3 (Clique) - 0 row cuts average 0.0 elements, 0 column cuts (0 active)  in 0.000 seconds - new frequency is -100\n",
      "Cbc0014I Cut generator 4 (MixedIntegerRounding2) - 0 row cuts average 0.0 elements, 0 column cuts (0 active)  in 0.000 seconds - new frequency is -100\n",
      "Cbc0014I Cut generator 5 (FlowCover) - 0 row cuts average 0.0 elements, 0 column cuts (0 active)  in 0.000 seconds - new frequency is -100\n",
      "Cbc0014I Cut generator 7 (ZeroHalf) - 1 row cuts average 2.0 elements, 0 column cuts (0 active)  in 0.000 seconds - new frequency is -100\n",
      "Cbc0001I Search completed - best objective -49, took 1 iterations and 0 nodes (0.00 seconds)\n",
      "Cbc0035I Maximum depth 0, 0 variables fixed on reduced cost\n",
      "Cuts at root node changed objective from -50.25 to -49\n",
      "Probing was tried 90 times and created 229 cuts of which 0 were active after adding rounds of cuts (0.001 seconds)\n",
      "Gomory was tried 90 times and created 1 cuts of which 0 were active after adding rounds of cuts (0.001 seconds)\n",
      "Knapsack was tried 90 times and created 0 cuts of which 0 were active after adding rounds of cuts (0.000 seconds)\n",
      "Clique was tried 90 times and created 0 cuts of which 0 were active after adding rounds of cuts (0.000 seconds)\n",
      "MixedIntegerRounding2 was tried 90 times and created 0 cuts of which 0 were active after adding rounds of cuts (0.000 seconds)\n",
      "FlowCover was tried 90 times and created 0 cuts of which 0 were active after adding rounds of cuts (0.000 seconds)\n",
      "TwoMirCuts was tried 1 times and created 0 cuts of which 0 were active after adding rounds of cuts (0.000 seconds)\n",
      "ZeroHalf was tried 1 times and created 1 cuts of which 0 were active after adding rounds of cuts (0.000 seconds)\n",
      "\n",
      "Result - Optimal solution found\n",
      "\n",
      "Objective value:                -49.00000000\n",
      "Enumerated nodes:               0\n",
      "Total iterations:               1\n",
      "Time (CPU seconds):             0.01\n",
      "Time (Wallclock seconds):       0.01\n",
      "\n",
      "Total time (CPU seconds):       0.01   (Wallclock seconds):       0.01\n",
      "\n"
     ]
    },
    {
     "data": {
      "text/plain": [
       "{'Problem': [{'Name': 'unknown', 'Lower bound': -49.0, 'Upper bound': -49.0, 'Number of objectives': 1, 'Number of constraints': 3, 'Number of variables': 3, 'Number of binary variables': 1, 'Number of integer variables': 3, 'Number of nonzeros': 3, 'Sense': 'minimize'}], 'Solver': [{'Status': 'ok', 'User time': -1.0, 'System time': 0.01, 'Wallclock time': 0.01, 'Termination condition': 'optimal', 'Termination message': 'Model was solved to optimality (subject to tolerances), and an optimal solution is available.', 'Statistics': {'Branch and bound': {'Number of bounded subproblems': 0, 'Number of created subproblems': 0}, 'Black box': {'Number of iterations': 1}}, 'Error rc': 0, 'Time': 0.04039335250854492}], 'Solution': [OrderedDict([('number of solutions', 0), ('number of solutions displayed', 0)])]}"
      ]
     },
     "execution_count": 11,
     "metadata": {},
     "output_type": "execute_result"
    }
   ],
   "source": [
    "opt = pyo.SolverFactory('cbc')\n",
    "opt.solve(model,tee=True)"
   ]
  },
  {
   "cell_type": "code",
   "execution_count": 12,
   "id": "90264a22-101b-4b30-b5e5-581cd0a55cff",
   "metadata": {},
   "outputs": [
    {
     "name": "stdout",
     "output_type": "stream",
     "text": [
      "Model unknown\n",
      "\n",
      "  Variables:\n",
      "    x : Size=2, Index=x_index\n",
      "        Key : Lower : Value : Upper : Fixed : Stale : Domain\n",
      "          1 :  None :   0.0 :  None : False : False : Integers\n",
      "          2 :  None :   5.0 :  None : False : False : Integers\n",
      "    y : Size=1, Index=y_index\n",
      "        Key : Lower : Value : Upper : Fixed : Stale : Domain\n",
      "          1 :     0 :   1.0 :     1 : False : False : Binary\n",
      "\n",
      "  Objectives:\n",
      "    OBJ : Size=1, Index=None, Active=True\n",
      "        Key  : Active : Value\n",
      "        None :   True : -49.0\n",
      "\n",
      "  Constraints:\n",
      "    Constraint1 : Size=1\n",
      "        Key  : Lower : Body : Upper\n",
      "        None :  None :  5.0 :   6.0\n",
      "    Constraint2 : Size=1\n",
      "        Key  : Lower : Body : Upper\n",
      "        None :  None : 45.0 :  45.0\n",
      "    Constraint3 : Size=1\n",
      "        Key  : Lower : Body    : Upper\n",
      "        None :  None : -1000.0 :   0.0\n"
     ]
    }
   ],
   "source": [
    "pyo.display(model)"
   ]
  }
 ],
 "metadata": {
  "kernelspec": {
   "display_name": "Python 3 (ipykernel)",
   "language": "python",
   "name": "python3"
  },
  "language_info": {
   "codemirror_mode": {
    "name": "ipython",
    "version": 3
   },
   "file_extension": ".py",
   "mimetype": "text/x-python",
   "name": "python",
   "nbconvert_exporter": "python",
   "pygments_lexer": "ipython3",
   "version": "3.8.10"
  }
 },
 "nbformat": 4,
 "nbformat_minor": 5
}
