{
 "cells": [
  {
   "cell_type": "markdown",
   "id": "ceaffa9f-ece9-41a0-b0f7-8c1b469b8b83",
   "metadata": {},
   "source": [
    "# Release planning problem\n",
    "\n",
    "As we have seen, the NRP problem can be very useful at the time of planning a sprint. But sometimes this is not enough, we may want to plan the whole project to have an idea of how it will evolve.\n",
    "In this blog, we present the formal defenition of Release planning problem which aims to solve the previous issue.\n",
    "\n",
    "In a common language, the problem will be: Find the order in which a set of requierements should be implemented in order to maximize profit of a project given that we have different releases and stakeholders to satisfy."
   ]
  },
  {
   "cell_type": "markdown",
   "id": "98f8e958-27c0-49a2-a3cd-f9e9c73469d4",
   "metadata": {},
   "source": [
    "## Formal definition\n",
    "\n",
    "- Let $k \\in \\mathbb{N}$  be releases to take into account.\n",
    "- Let $R = [r_1,r_2,\\dotsc,r_n]$ be an array of requierements to be developed and assigned to each *release*\n",
    "- Let $S = [s_1,s_2,\\dotsc,s_m]$ be an array of stakeholders.\n",
    "- Let $X \\in \\{1,\\dotsc,k+1\\}^n$ be an array of integers that represents for each requierement $i$ the number of the release in which it is implemented. If $x_i == k+1$ the requierement $i$ is not implemented\n",
    "- Let $Y \\in \\{0,1\\}^{k+1 \\cdot n}$ be a matrix of binary variables, where $y_{l,i} \\in Y / y_{l,i} == 1$ if the requierement $i$ is implemented in release $l$ \n",
    "$$\n",
    "Y = \\begin{bmatrix}\n",
    "y_{1,1} & \\cdots & y_{1,n}\\\\\n",
    "\\vdots & \\ddots & \\vdots \\\\\n",
    "y_{k+1,1} & \\cdots & y_{k+1,n} \\\\\n",
    "\\end{bmatrix}\n",
    "$$\n",
    "- Let $E = [e_1,e_2,\\dotsc,e_n]$ be an array of efforts associated with each requierement\n",
    "- Let $p$ be the max affordable effort in each release\n",
    "- Let $B= [b_1,b_2,\\dotsc,b_m]$ be an array of profit associated to a stakeholder.\n",
    "- Let $P$ be the precedence relation between $(i,j)$ where $i,j$ are requirements; meaning that $i$ requirement must be implemented if $j$ requirement is implemented.\n",
    "- Let $A \\in \\mathbb{R}^{m\\cdot n}$ be the priority matrix, where $a_{s,i} \\in A / a_{s,i}$ is the priority of the stakeholder $s$ for a requierement $i$. This matrix must be normalized, i.e. the sum of the elements for each row must be 1\n",
    "\n",
    "The objetive function (OF) is:\n",
    "\n",
    "$$\n",
    "max f(x) = \\sum_{s = 1}^{m} \\sum_{i=1}^{n} b_s \\cdot  a_{s,i} \\cdot (|k+1|-x_i)\n",
    "$$\n",
    "\n",
    "This function seems a little weird, so let's try \n",
    "to explain it. $a$ and $b$ are only parameters of the model. The interesting part is $|k+1| - x_i$ where if the requierement is implemented first, this part will be bigger and it will maximize the function taken into account its contribution to the whole model with $a$ adn $b$ as information. If $x_i = k+1$ this part will be 0 and it won't affect de OF. \n",
    "\n",
    "\n",
    "subject to:\n",
    "1) Release constraint: $x_i$ must contain the number of release in which the requierement is implemented\n",
    "\n",
    "$$\n",
    "x_i = \\sum_{l=1}^{k+1} l \\cdot y_{li} \\quad \\forall i \\in \\{1,\\dotsc, n\\}\n",
    "$$\n",
    "\n",
    "\n",
    "2) Implementation constraint: every requierement should be implemented \n",
    "\n",
    "$$\n",
    "\\sum_{l=1}^{k+1} y_{li} = 1 \\quad \\forall i \\in \\{1,\\dotsc ,n\\}\n",
    "$$\n",
    "\n",
    "3) Effort constaint: The sum of the effort for each requierement in the release must be less or equal than the max affordable effort\n",
    "\n",
    "$$\n",
    "\\sum_{i=1}^{n} e_i \\cdot y_{li} \\leq p \\quad \\forall l \\in \\{1, \\dotsc ,k+1 \\}\n",
    "$$\n",
    "\n",
    "4) Precedence constraint: requierement $i$ must be implemented before or in the same release than requierement $j$\n",
    "\n",
    "$$\n",
    "x_i \\leq x_j \\quad \\forall (i,j) \\in P\n",
    "$$"
   ]
  },
  {
   "cell_type": "markdown",
   "id": "c8f47dc8-b37c-437a-bbaa-d715668cfdef",
   "metadata": {},
   "source": [
    "## Python implementation\n",
    "As we did in the previous blog, we'll be implementing the model in Python using [Pyomo](http://www.pyomo.org/)."
   ]
  },
  {
   "cell_type": "code",
   "execution_count": 1,
   "id": "5ba210fc-84bb-4f8f-bcea-8d1bb3ec0904",
   "metadata": {},
   "outputs": [],
   "source": [
    "# Import the needed libraries\n",
    "from __future__ import division\n",
    "import pyomo.environ as pyo\n",
    "import math as mt\n",
    "import sys\n",
    "import numpy as np"
   ]
  },
  {
   "cell_type": "code",
   "execution_count": 2,
   "id": "eccaf307-d726-4119-8894-8d9b0efd445e",
   "metadata": {},
   "outputs": [],
   "source": [
    "# Helper functions used to normalize rpp.A\n",
    "def normalize(x):\n",
    "    \"\"\"\n",
    "    Given a numpy vector X, returns another vector the where the sum of elements is 1\n",
    "    \"\"\"\n",
    "    acc = np.sum(x)\n",
    "    if acc == 0:\n",
    "        return x\n",
    "    return x / acc\n",
    "\n",
    "\n",
    "def A_normalizate(rpp):\n",
    "    \"\"\"\n",
    "    Given an rpp model with A matrix\n",
    "    Normalize each row, so the sum of elements per row is 1\n",
    "    \"\"\"\n",
    "    A = np.zeros((rpp.number_of_stakeholders.value, rpp.number_of_requirements.value))\n",
    "       \n",
    "    # Assing rpp.A values to A\n",
    "    for (i, j) in rpp.A.index_set():\n",
    "        A[i - 1, j - 1] = rpp.A[i, j].value\n",
    "\n",
    "    # Normalize A\n",
    "    for i in range(0, A.shape[0]):\n",
    "        A[i, :] = normalize(A[i, :])\n",
    "\n",
    "    # Assign A values to rpp.A\n",
    "    for j in range(0, A.shape[1]):\n",
    "        for i in range(0, A.shape[0]):\n",
    "            rpp.A[i + 1, j + 1] = A[i, j]"
   ]
  },
  {
   "cell_type": "code",
   "execution_count": 47,
   "id": "eb643e3e-2444-4a95-9c13-6b1590c823d7",
   "metadata": {},
   "outputs": [],
   "source": [
    "def abstract_model():\n",
    "    \"\"\"\n",
    "    Creates an abstract model of Rpp problem\n",
    "    \"\"\"\n",
    "    rpp = pyo.AbstractModel()\n",
    "\n",
    "    # Model's parameters\n",
    "    rpp.number_of_requirements = pyo.Param(within=pyo.NonNegativeIntegers)\n",
    "    rpp.number_of_stakeholders = pyo.Param(within=pyo.NonNegativeIntegers)\n",
    "    rpp.number_of_releases = pyo.Param(within=pyo.NonNegativeIntegers)\n",
    "    rpp.max_cost = pyo.Param(within=pyo.NonNegativeIntegers, mutable=True)\n",
    "    \n",
    "    # Sets that will be used to iterate over \n",
    "    rpp.requirements = pyo.RangeSet(1, rpp.number_of_requirements)\n",
    "    rpp.stakeholders = pyo.RangeSet(1, rpp.number_of_stakeholders)\n",
    "    rpp.releases = pyo.RangeSet(1, rpp.number_of_releases)\n",
    "    \n",
    "    # Parameters defined over previous defined sets\n",
    "    rpp.efforts = pyo.Param(rpp.requirements)\n",
    "    rpp.profits = pyo.Param(rpp.stakeholders)\n",
    "    \n",
    "    # Relations defined over the cartesian product of sets\n",
    "    # (i,j) requierement i should be implemented if j is implemented\n",
    "    rpp.precedences = pyo.Set(within=rpp.requirements * rpp.requirements)\n",
    "    # (s,i) > 0 if stakeholder s has interest over requierement i\n",
    "    # This relation is here beacuse the dataset have this information\n",
    "    # We are using this to initialize matrix A\n",
    "    rpp.interests = pyo.Set(within=rpp.stakeholders * rpp.requirements)\n",
    "\n",
    "    # We use this function to assign a requierement priority for each stakeholder\n",
    "    # This is because the dataset we are using does not have this information\n",
    "    def A_init(rpp, s, i):\n",
    "        if (s, i) in rpp.interests:\n",
    "            return 1\n",
    "        return 0\n",
    "    # This parameter needs to be mutable so later on we can normalize it\n",
    "    rpp.A = pyo.Param(rpp.stakeholders, rpp.requirements, initialize=A_init, mutable=True)\n",
    "\n",
    "    # Variables\n",
    "    # Store the number in which the requierement is implemented\n",
    "    rpp.x = pyo.Var(rpp.requirements, domain=pyo.Integers)\n",
    "    # y[l,i] == 1 if requierement i is implemented in l release\n",
    "    rpp.y = pyo.Var(rpp.releases, rpp.requirements, domain=pyo.Binary)\n",
    "\n",
    "    # Objetive function\n",
    "    def obj_function_rule(rpp):\n",
    "        inner_sum = lambda s: sum(rpp.A[s, i] * (rpp.number_of_releases - rpp.x[i]) for i in rpp.requirements)\n",
    "        return sum(rpp.profits[s] * inner_sum(s) for s in rpp.stakeholders)\n",
    "        #return sum(rpp.profits[s] * sum(rpp.A[s, i] * rpp.number_of_releases - rpp.x[i] for i in rpp.requirements) for s in rpp.stakeholders)\n",
    "    rpp.OBJ = pyo.Objective(rule=obj_function_rule, sense=pyo.maximize)\n",
    "\n",
    "    # Constraints\n",
    "    def release_constraint_rule(rpp, i):\n",
    "        return sum(rpp.y[l, i] * l for l in rpp.releases) == rpp.x[i]\n",
    "    rpp.release_constraint = pyo.Constraint(rpp.requirements, rule=release_constraint_rule)\n",
    "\n",
    "    def implementation_constraint_rule(rpp, i):\n",
    "        return sum(rpp.y[l, i] for l in rpp.releases) == 1\n",
    "    rpp.implementation_constraint = pyo.Constraint(rpp.requirements, rule=implementation_constraint_rule)\n",
    "\n",
    "    def effort_constraint_rule(rpp, l):\n",
    "        return sum(rpp.efforts[i] * rpp.y[l, i] for i in rpp.requirements) <= rpp.max_cost\n",
    "    rpp.efforts_constraint = pyo.Constraint(pyo.RangeSet(1, rpp.number_of_releases - 1), rule=effort_constraint_rule)\n",
    "\n",
    "    def precedence_constraint_rule(rpp, i, j):\n",
    "        return rpp.x[i] <= rpp.x[j]\n",
    "    rpp.precedences_constraint = pyo.Constraint(rpp.precedences, rule=precedence_constraint_rule)\n",
    "    \n",
    "    return rpp"
   ]
  },
  {
   "cell_type": "code",
   "execution_count": 48,
   "id": "3d3df78a-c86d-4fe2-a03b-a6b0a0038e38",
   "metadata": {},
   "outputs": [
    {
     "data": {
      "text/plain": [
       "<SolverStatus.ok: 'ok'>"
      ]
     },
     "execution_count": 48,
     "metadata": {},
     "output_type": "execute_result"
    }
   ],
   "source": [
    "# This is the actual code that solves the problem\n",
    "\n",
    "# Define the name of the solver to use\n",
    "solver_name = 'cbc'\n",
    "data_file = \"./datasets/rpp_data.dat\"\n",
    "\n",
    "# Create the abstract model\n",
    "rpp = abstract_model()\n",
    "# Fill the model with concrete values\n",
    "rpp_concrete = rpp.create_instance(data=data_file)\n",
    "rpp_concrete.max_cost = 40\n",
    "\n",
    "# Because we dont now what priority  stakeholders are going to assing to each requierement\n",
    "# the normalization must be donde with a concrete instance\n",
    "A_normalizate(rpp_concrete)\n",
    "\n",
    "# Create a new solver instance\n",
    "solver = pyo.SolverFactory(solver_name)\n",
    "if solver.name != 'glpk':\n",
    "    # Assign 4 threads to the solver\n",
    "    solver.options['threads'] = 4\n",
    "# Solve the model and display the solution\n",
    "res = solver.solve(rpp_concrete)\n",
    "res['Solver'][0]['Status']"
   ]
  },
  {
   "cell_type": "code",
   "execution_count": 49,
   "id": "ae341141-c596-4785-9997-5975df26f2f6",
   "metadata": {},
   "outputs": [
    {
     "name": "stdout",
     "output_type": "stream",
     "text": [
      "x : Size=5, Index=requirements\n",
      "    Key : Lower : Value : Upper : Fixed : Stale : Domain\n",
      "      1 :  None :   1.0 :  None : False : False : Integers\n",
      "      2 :  None :   2.0 :  None : False : False : Integers\n",
      "      3 :  None :   3.0 :  None : False : False : Integers\n",
      "      4 :  None :   3.0 :  None : False : False : Integers\n",
      "      5 :  None :   2.0 :  None : False : False : Integers\n"
     ]
    }
   ],
   "source": [
    "# Now we can display the value of each variable in the model using pyo.display\n",
    "\n",
    "# Display the number of release of requierement implementation\n",
    "pyo.display(rpp_concrete.x)"
   ]
  },
  {
   "cell_type": "code",
   "execution_count": 46,
   "id": "98fe2a57-2513-41b1-bc38-acc42118b531",
   "metadata": {},
   "outputs": [
    {
     "name": "stdout",
     "output_type": "stream",
     "text": [
      "x : Size=5, Index=requirements\n",
      "    Key : Lower : Value : Upper : Fixed : Stale : Domain\n",
      "      1 :  None :   1.0 :  None : False : False : Integers\n",
      "      2 :  None :   2.0 :  None : False : False : Integers\n",
      "      3 :  None :   2.0 :  None : False : False : Integers\n",
      "      4 :  None :   3.0 :  None : False : False : Integers\n",
      "      5 :  None :   1.0 :  None : False : False : Integers\n"
     ]
    }
   ],
   "source": [
    "rpp_concrete.max_cost = 50\n",
    "solver.solve(rpp_concrete)\n",
    "pyo.display(rpp_concrete.x)"
   ]
  },
  {
   "cell_type": "code",
   "execution_count": 40,
   "id": "8138bbc1-885a-4e81-8332-21dd65967b8c",
   "metadata": {},
   "outputs": [
    {
     "name": "stdout",
     "output_type": "stream",
     "text": [
      "OBJ : Size=1, Index=None, Active=True\n",
      "    Key  : Active : Value\n",
      "    None :   True : 120.0\n"
     ]
    }
   ],
   "source": [
    "pyo.display(rpp_concrete.OBJ)"
   ]
  }
 ],
 "metadata": {
  "kernelspec": {
   "display_name": "Python 3 (ipykernel)",
   "language": "python",
   "name": "python3"
  },
  "language_info": {
   "codemirror_mode": {
    "name": "ipython",
    "version": 3
   },
   "file_extension": ".py",
   "mimetype": "text/x-python",
   "name": "python",
   "nbconvert_exporter": "python",
   "pygments_lexer": "ipython3",
   "version": "3.8.10"
  }
 },
 "nbformat": 4,
 "nbformat_minor": 5
}
