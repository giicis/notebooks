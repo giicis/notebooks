{
 "cells": [
  {
   "cell_type": "markdown",
   "id": "eb9f2678-31b1-4001-94fe-8b2a711adcb3",
   "metadata": {},
   "source": [
    "# Bi objetive NRP\n",
    "\n",
    "In previous blog post we have explored the NRP (next release problem) which aims to determine which requierement should be implemented in the next release of a product, satisfying stakeholders' needs below a certaing cost.\n",
    "\n",
    "But this approach seems to be quite restrictive. What if we want a solution for more than one objective? Could we find the optimum point for more than one objective?\n",
    "\n",
    "In this post we explore how to extend the NRP problem for more than one objetive and a technique to find the solutions. \n",
    "\n",
    "\n",
    "## Formal definition\n",
    "The model is exactly the same as before, but now the cost constraint is an objetive function. So now the objetive functions are\n",
    "\n",
    "1) Maximize profit\n",
    "$$\n",
    "max \\ f(Y) = \\sum_{i \\in S} b_i \\cdot y_i\n",
    "$$\n",
    "\n",
    "2) Minimize costs\n",
    "$$\n",
    "min \\ g(X) = \\sum_{j \\in R} c_j \\cdot x_j \n",
    "$$\n",
    "\n",
    "All other constraints and parameters stay the same"
   ]
  },
  {
   "cell_type": "markdown",
   "id": "fdc6b70c-7b20-4ecd-a343-fbb76e9cf81c",
   "metadata": {},
   "source": [
    "## $\\epsilon$-restrictions method \n",
    "\n",
    "Now we need a way to solve the model and find solutions. In this blog, we'll use the $\\epsilon$-restrictions methods. Long story short, we  maximize $f$ and use $g$ as a restriction\n",
    "\n",
    "$$\n",
    "g(X) < \\epsilon\n",
    "$$\n",
    "\n",
    "By changing the value of $\\epsilon$ we get different points. This points belong to a set of  points called [Pareto optimal front](https://en.wikipedia.org/wiki/Multi-objective_optimization#Solution)"
   ]
  },
  {
   "cell_type": "markdown",
   "id": "3be1ee6d-5456-4c82-b67e-de67ba936bfd",
   "metadata": {},
   "source": [
    "### Implementing $\\epsilon$-restrictions method in python\n",
    "First, we create the same model used in a previous blog."
   ]
  },
  {
   "cell_type": "code",
   "execution_count": 6,
   "id": "8f91dfc6-834e-4b04-b6c1-2152c70738cb",
   "metadata": {},
   "outputs": [],
   "source": [
    "import pyomo.environ as pyo\n",
    "from pyomo.environ import AbstractModel\n",
    "\n",
    "# Create and abstract model\n",
    "nrp_abs = pyo.AbstractModel()\n",
    "\n",
    "# Assign parameters to the model\n",
    "nrp_abs.number_of_requierements = pyo.Param(within=pyo.NonNegativeIntegers)\n",
    "nrp_abs.number_of_costumers = pyo.Param(within=pyo.NonNegativeIntegers)\n",
    "nrp_abs.max_cost = pyo.Param(within=pyo.NonNegativeIntegers, mutable=True)\n",
    "\n",
    "# Sets used to maintain data of customers and requeriments\n",
    "nrp_abs.requierements = pyo.RangeSet(1, nrp_abs.number_of_requierements)\n",
    "nrp_abs.customers = pyo.RangeSet(1, nrp_abs.number_of_costumers)\n",
    "\n",
    "\n",
    "# Parameters for the model\n",
    "nrp_abs.profit = pyo.Param(nrp_abs.customers)  # Profit of each customer if it is satisfied\n",
    "nrp_abs.cost = pyo.Param(nrp_abs.requierements)  # Cost of implementing each requierement\n",
    "\n",
    "\n",
    "# (i,j) requierement i should be implemented if j is implemented\n",
    "# Set is within the cross product of Requierements X Requierements\n",
    "nrp_abs.prerequisite = pyo.Set(within=nrp_abs.requierements * nrp_abs.requierements)\n",
    "# (i,k) this relation exists if stakeholder k has interest on requierement i\n",
    "nrp_abs.interest = pyo.Set(within=nrp_abs.customers * nrp_abs.requierements)\n",
    "\n",
    "# Creation of variables\n",
    "# x = 1 if requierement i is implemented in the next release, otherwise 0\n",
    "nrp_abs.x = pyo.Var(nrp_abs.requierements, domain=pyo.Binary)\n",
    "# y = 1 if all customer requierements are satisfied in the next release, otherwise 0\n",
    "nrp_abs.y = pyo.Var(nrp_abs.customers, domain=pyo.Binary)\n",
    "\n",
    "# Objetive function\n",
    "def obj_expression(nrp: AbstractModel):\n",
    "    # Model should maximize profit of the next release\n",
    "    return pyo.summation(nrp.profit, nrp.y)\n",
    "nrp_abs.OBJ = pyo.Objective(rule=obj_expression, sense=pyo.maximize)\n",
    "\n",
    "\n",
    "# Defintion of cost constraint rule\n",
    "def cost_constraint_rule(nrp: AbstractModel):\n",
    "    # Cost should be maintened under a predefined cost\n",
    "    return pyo.summation(nrp.cost, nrp.x) <= nrp.max_cost\n",
    "nrp_abs.cost_constraint = pyo.Constraint(rule=cost_constraint_rule)\n",
    "\n",
    "\n",
    "# Defition of precedence constraint\n",
    "def precedence_constraint_rule(nrp: AbstractModel, i: int, j: int):\n",
    "    return nrp.x[i] >= nrp.x[j]\n",
    "nrp_abs.precedence_constraint = pyo.Constraint(nrp_abs.prerequisite, rule=precedence_constraint_rule)\n",
    "\n",
    "# Definition of interest constraint\n",
    "# Each tuple in nrp.dat.interest is inverted, so the constraint is also inverted\n",
    "def interest_constraint_rule(nrp: AbstractModel, i: int, k: int):\n",
    "    return nrp.y[i] <= nrp.x[k]\n",
    "nrp_abs.interest_constraint = pyo.Constraint(nrp_abs.interest, rule=interest_constraint_rule)"
   ]
  },
  {
   "cell_type": "markdown",
   "id": "eaf5964f-cc54-4c07-b15d-5ebe9061dc9a",
   "metadata": {},
   "source": [
    "Because we've decalred `max_cost` as mutable, we can create the model with the data file, and make a for loop\n",
    "which will change the `max_cost` and  solve it. "
   ]
  },
  {
   "cell_type": "code",
   "execution_count": 27,
   "id": "2dd97c17-9434-42fd-898e-20ece68a6bf0",
   "metadata": {},
   "outputs": [],
   "source": [
    "from pyomo.environ import SolverFactory\n",
    "\n",
    "data_file_path = '../datasets/nrp_100c_140r.dat'\n",
    "nrp_concrete = nrp_abs.create_instance(data_file_path)\n",
    "solver = SolverFactory('cbc')\n",
    "\n",
    "results = {'cost':[], 'profit':[]}\n",
    "\n",
    "for cost in range(0,300):\n",
    "    nrp_concrete.max_cost = cost\n",
    "    solver.solve(nrp_concrete)\n",
    "    profit = nrp_concrete.OBJ.expr()\n",
    "    \n",
    "    results['cost'].append(cost)\n",
    "    results['profit'].append(profit)"
   ]
  },
  {
   "cell_type": "markdown",
   "id": "61b49af2-8722-4605-a023-6fa95ce46dae",
   "metadata": {},
   "source": [
    "Now, we can go a little further and plot the pareto front using python's libraries"
   ]
  },
  {
   "cell_type": "code",
   "execution_count": 28,
   "id": "bfa6673a-014a-422a-bc5f-a42b90e49849",
   "metadata": {},
   "outputs": [
    {
     "data": {
      "text/plain": [
       "<AxesSubplot:xlabel='cost', ylabel='profit'>"
      ]
     },
     "execution_count": 28,
     "metadata": {},
     "output_type": "execute_result"
    },
    {
     "data": {
      "image/png": "[encoded data removed]",
      "text/plain": [
       "<Figure size 432x288 with 1 Axes>"
      ]
     },
     "metadata": {
      "needs_background": "light"
     },
     "output_type": "display_data"
    }
   ],
   "source": [
    "import pandas as pd\n",
    "import seaborn as sns\n",
    "\n",
    "df = pd.DataFrame.from_dict(results)\n",
    "sns.scatterplot(data=df, x='cost', y='profit')"
   ]
  }
 ],
 "metadata": {
  "kernelspec": {
   "display_name": "Python 3",
   "language": "python",
   "name": "python3"
  },
  "language_info": {
   "codemirror_mode": {
    "name": "ipython",
    "version": 3
   },
   "file_extension": ".py",
   "mimetype": "text/x-python",
   "name": "python",
   "nbconvert_exporter": "python",
   "pygments_lexer": "ipython3",
   "version": "3.8.10"
  }
 },
 "nbformat": 4,
 "nbformat_minor": 5
}
