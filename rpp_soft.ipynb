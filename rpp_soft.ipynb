{
 "cells": [
  {
   "cell_type": "markdown",
   "id": "f23ca7b9-af85-48f9-87ae-1981e572455a",
   "metadata": {},
   "source": [
    "# Release planning problem with soft constraints\n",
    "\n",
    "In the [previous blog post]() we have seen how a rpp model can help us when planning releases for a project. But, it turns out that the model can be a little bit to strict when deciding if we should implement a requirement or not.The previous model have assummed that the cost of each requirement is well know and it will not vary during the implementation. In the software engineering world we know that this is not true. Most of the time, we give an aproximation of the cost and if we are good enough the aproximation is close enough.\n",
    "In this post, we provide a model that can deal with this problem using fuzzy logic."
   ]
  },
  {
   "cell_type": "markdown",
   "id": "fe5c9556-205f-416b-b135-d83898c931f1",
   "metadata": {},
   "source": [
    "## Brief introduction to fuzzy logic\n",
    "Disclaimer: this section aims to present a shot introduction to fuzzy logic and not a formal definition of it. If you want to learn more, you can check the [wikipedia page](https://en.wikipedia.org/wiki/Fuzzy_logic).\n",
    "\n",
    "In the classical logic, there are only two states that are valid: 1 or 0; where there is not room for ambiguity.\n",
    "\n",
    "\n",
    "Fuzzy logic has the idea that human perception is always fuzzy and there is room for ambiguity, therefore there are infinites states than can be accepted to determine the state of a variable. The state can be anything in $[0,1]$\n",
    "\n",
    "For example, how would you decide if a body of water is hot? You could say that if it is above 50°C it's hot. But what if the water is at 49°C; that makes it cold?. Using fuzzy logic we can address this problem saying that water is warm and almost hot.\n",
    "\n",
    "The next image provides a visual representation of this principle\n",
    "\n",
    "![asd](https://upload.wikimedia.org/wikipedia/commons/thumb/6/61/Fuzzy_logic_temperature_en.svg/330px-Fuzzy_logic_temperature_en.svg.png)"
   ]
  },
  {
   "cell_type": "markdown",
   "id": "4bbdb7e3-18c8-4232-bf28-e7be59088290",
   "metadata": {},
   "source": [
    "## Fuzzy logic in RPP\n",
    "Because we want to implement the cost uncertanty of the requierement in the model, we are going to modify the [cost constraint]() stated in the previous blog post.\n",
    "\n",
    "This constraint is:\n",
    "$$\n",
    "\\sum_{i=1}^{n} e_i \\cdot y_{li} \\leq p \\quad \\forall l \\in \\{1, \\dotsc ,k+1 \\}\n",
    "$$\n",
    "\n",
    "The symbol $\\leq$ represent that this requierement cannot be violated if the soultion is factible. That means that if the max cost is 100, we cannot have an implementation cost of 101. \n",
    "\n",
    "If we add fuzzy logic to the model, we can solve this problem allowing that the constraint can be ignored for a little bit. Therefore, the constraint changes to:\n",
    "\n",
    "$$\n",
    "\\sum_{i=1}^{n} e_i \\cdot y_{li} \\preceq p \\quad \\forall l \\in \\{1, \\dotsc ,k+1 \\}\n",
    "$$\n",
    "\n",
    "\n",
    "\n",
    "But now raises another problem, how we solve this constraint? We are going to use the Wernes approach, which say that first we have to solve two optimization problems of the original model. For a more dailed description check the [original paper](https://www.researchgate.net/publication/336906292_Modelo_de_Planificacion_de_Lanzamientos_de_Software_utilizando_Restricciones_Blandas) (only in spanish).\n",
    "\n",
    "To solve this model, we'll need everything that we needed to solve the original RPP and the threshold ($\\Delta p$) that can be accepted in the cost constraint. So now, we'll have\n",
    "- $p_d$ is the desirable cost\n",
    "- $p_m = p_d + \\Delta p$ is the max affordable cost\n",
    "\n",
    "Solving the original RPP model with $p_m$ and $p_d$ as $p$ we'll obtain two values of the objetive function. The first one is $f_1$ associated with $p_d$. The second one is $f_0$ associated with $p_m$. These values are going to be parameters in the soft model."
   ]
  },
  {
   "cell_type": "markdown",
   "id": "cf0a198d-cfeb-425d-99d0-9d388e2e825b",
   "metadata": {},
   "source": [
    "## Formal definition\n",
    "\n",
    "- Let $k \\in \\mathbb{N}$  be releases to take into account.\n",
    "- Let $R = [r_1,r_2,\\dotsc,r_n]$ be an array of requierements to be developed and assigned to each *release*\n",
    "- Let $S = [s_1,s_2,\\dotsc,s_m]$ be an array of stakeholders.\n",
    "- Let $X \\in \\{1,\\dotsc,k+1\\}^n$ be an array of integers that represents for each requierement $i$ the number of the release in which it is implemented. If $x_i == k+1$ the requierement $i$ is not implemented\n",
    "- Let $Y \\in \\{0,1\\}^{k+1 \\cdot n}$ be a matrix of binary variables, where $y_{l,i} \\in Y / y_{l,i} == 1$ if the requierement $i$ is implemented in release $l$ \n",
    "$$\n",
    "Y = \\begin{bmatrix}\n",
    "y_{1,1} & \\cdots & y_{1,n}\\\\\n",
    "\\vdots & \\ddots & \\vdots \\\\\n",
    "y_{k+1,1} & \\cdots & y_{k+1,n} \\\\\n",
    "\\end{bmatrix}\n",
    "$$\n",
    "- Let $E = [e_1,e_2,\\dotsc,e_n]$ be an array of efforts associated with each requierement\n",
    "- Let $p_d$ be the desirable cost of each release and $f_1$ the value of the objetive function associated to solving the model without soft restrictions\n",
    "- Let $p_m$ be the max affordable cost of each release and $f_0$ the value of the objetive function associated to solving the model without soft restrictions\n",
    "- Let $B= [b_1,b_2,\\dotsc,b_m]$ be an array of profit associated to a stakeholder.\n",
    "- Let $P$ be the precedence relation between $(i,j)$ where $i,j$ are requirements; meaning that $i$ requirement must be implemented if $j$ requirement is implemented.\n",
    "- Let $A \\in \\mathbb{R}^{m\\cdot n}$ be the priority matrix, where $a_{s,i} \\in A / a_{s,i}$ is the priority of the stakeholder $s$ for a requierement $i$. This matrix must be normalized, i.e. the sum of the elements for each row must be 1\n",
    "\n",
    "The objetive function (OF) is:\n",
    "$$\n",
    "max \\ \\alpha\n",
    "$$\n",
    "\n",
    "\n",
    "subject to:\n",
    "\n",
    "\n",
    "0) Soft cost constraint: this constraint result from applying the wernes approach.\n",
    "\n",
    "\n",
    "$$\n",
    "\\sum_{s = 1}^{m} \\sum_{i=1}^{n} b_s \\cdot  a_{s,i} \\cdot (|k+1|-x_i) \\geq f_1 + \\alpha(f_0 - f_1)\n",
    "$$\n",
    "\n",
    "\n",
    "1) Release constraint: $x_i$ must contain the number of release in which the requierement is implemented\n",
    "\n",
    "$$\n",
    "x_i = \\sum_{l=1}^{k+1} l \\cdot y_{li} \\quad \\forall i \\in \\{1,\\dotsc, n\\}\n",
    "$$\n",
    "\n",
    "\n",
    "2) Implementation constraint: every requierement should be implemented \n",
    "\n",
    "$$\n",
    "\\sum_{l=1}^{k+1} y_{li} = 1 \\quad \\forall i \\in \\{1,\\dotsc ,n\\}\n",
    "$$\n",
    "\n",
    "3) Cost soft constaint: This constraint also arises from applying the wernes approach\n",
    "\n",
    "$$\n",
    "\\sum_{i=1}^{n} e_i \\cdot y_{li} \\leq p_m - \\alpha(p_m - p_d) \\quad \\forall l \\in \\{1, \\dotsc ,k+1 \\}\n",
    "$$\n",
    "\n",
    "4) Precedence constraint: requierement $i$ must be implemented before or in the same release than requierement $j$\n",
    "\n",
    "$$\n",
    "x_i \\leq x_j \\quad \\forall (i,j) \\in P\n",
    "$$"
   ]
  },
  {
   "cell_type": "markdown",
   "id": "642e3a31-c73a-41d4-b2d0-32ac7201ac98",
   "metadata": {},
   "source": [
    "## Implementing RPP soft in python\n",
    "As the previous blog post, we are using pyomo to implement this model. The code is almost unchanged from the RPP post, only a few lines were changed. \n",
    "\n",
    "Here is the full model:"
   ]
  },
  {
   "cell_type": "code",
   "execution_count": 2,
   "id": "8f1a6af8-051b-4012-81f6-a26b08ce18d8",
   "metadata": {},
   "outputs": [],
   "source": [
    "from __future__ import division\n",
    "import pyomo.environ as pyo \n",
    "import numpy as np\n",
    "\n",
    "# Helper functions used to normalize rpp.A\n",
    "def normalize(x):\n",
    "    \"\"\"\n",
    "    Given a numpy vector X, returns another vector the where the sum of elements is 1\n",
    "    \"\"\"\n",
    "    acc = np.sum(x)\n",
    "    if acc == 0:\n",
    "        return x\n",
    "    return x / acc\n",
    "\n",
    "\n",
    "def A_normalizate(rpp):\n",
    "    \"\"\"\n",
    "    Given an rpp model with A matrix\n",
    "    Normalize each row, so the sum of elements per row is 1\n",
    "    \"\"\"\n",
    "    A = np.zeros((rpp.number_of_stakeholders.value, rpp.number_of_requirements.value))\n",
    "       \n",
    "    # Assing rpp.A values to A\n",
    "    for (i, j) in rpp.A.index_set():\n",
    "        A[i - 1, j - 1] = rpp.A[i, j].value\n",
    "\n",
    "    # Normalize A\n",
    "    for i in range(0, A.shape[0]):\n",
    "        A[i, :] = normalize(A[i, :])\n",
    "\n",
    "    # Assign A values to rpp.A\n",
    "    for j in range(0, A.shape[1]):\n",
    "        for i in range(0, A.shape[0]):\n",
    "            rpp.A[i + 1, j + 1] = A[i, j]"
   ]
  },
  {
   "cell_type": "code",
   "execution_count": 29,
   "id": "7abc25a6-c19b-4137-a3ca-81eb54a6f412",
   "metadata": {},
   "outputs": [],
   "source": [
    "def abstract_model():\n",
    "    \"\"\"\n",
    "    Creates an abstract model of Rpp problem with soft restrictions\n",
    "    \"\"\"\n",
    "    rpp = pyo.AbstractModel()\n",
    "    rpp.name = \"Release planning problem with soft restrictions\"\n",
    "\n",
    "    # Model's parameters\n",
    "    rpp.number_of_requirements = pyo.Param(within=pyo.NonNegativeIntegers)\n",
    "    rpp.number_of_stakeholders = pyo.Param(within=pyo.NonNegativeIntegers)\n",
    "    rpp.number_of_releases = pyo.Param(within=pyo.NonNegativeIntegers)\n",
    "    rpp.pm = pyo.Param(within=pyo.NonNegativeIntegers)\n",
    "    rpp.pd = pyo.Param(within=pyo.NonNegativeIntegers)\n",
    "    rpp.f0 = pyo.Param(within=pyo.Reals)\n",
    "    rpp.f1 = pyo.Param(within=pyo.Reals)\n",
    "    \n",
    "    \n",
    "    # Sets that will be used to iterate over \n",
    "    rpp.requirements = pyo.RangeSet(1, rpp.number_of_requirements)\n",
    "    rpp.stakeholders = pyo.RangeSet(1, rpp.number_of_stakeholders)\n",
    "    rpp.releases = pyo.RangeSet(1, rpp.number_of_releases)\n",
    "    \n",
    "    # Parameters defined over previous defined sets\n",
    "    rpp.cost = pyo.Param(rpp.requirements)\n",
    "    rpp.profit = pyo.Param(rpp.stakeholders)\n",
    "    \n",
    "    # Relations defined over the cartesian product of sets\n",
    "    # (i,j) requierement i should be implemented if j is implemented\n",
    "    rpp.precedence = pyo.Set(within=rpp.requirements * rpp.requirements)\n",
    "    # (s,i) > 0 if stakeholder s has interest over requierement i\n",
    "    # This relation is here beacuse the dataset have this information\n",
    "    # We are using this to initialize matrix A\n",
    "    rpp.interest = pyo.Set(within=rpp.stakeholders * rpp.requirements)\n",
    "\n",
    "    # We use this function to assign a requierement priority for each stakeholder\n",
    "    # This is because the dataset we are using does not have this information\n",
    "    def A_init(rpp, s, i):\n",
    "        if (s, i) in rpp.interest:\n",
    "            return 1\n",
    "        return 0\n",
    "    # This parameter needs to be mutable so later on we can normalize it\n",
    "    rpp.A = pyo.Param(rpp.stakeholders, rpp.requirements, initialize=A_init, mutable=True)\n",
    "\n",
    "    # Variables\n",
    "    # Store the number in which the requierement is implemented\n",
    "    rpp.x = pyo.Var(rpp.requirements, domain=pyo.Integers)\n",
    "    # y[l,i] == 1 if requierement i is implemented in l release\n",
    "    rpp.y = pyo.Var(rpp.releases, rpp.requirements, domain=pyo.Binary)\n",
    "    rpp.a = pyo.Var(bounds=(0, 1))\n",
    "   \n",
    "    # Objetive function\n",
    "    def obj_function_rule(rpp):\n",
    "        return rpp.a\n",
    "    rpp.OBJ = pyo.Objective(rule=obj_function_rule, sense=pyo.maximize)\n",
    "\n",
    "    # Constraints\n",
    "    def profit_soft_constraint_rule(rpp):\n",
    "        return sum(rpp.profit[s] * sum(rpp.A[s, i] * rpp.number_of_releases - rpp.x[i] for i in rpp.requirements) \\\n",
    "                   for s in rpp.stakeholders) >= rpp.f1 + rpp.a * (rpp.f0 - rpp.f1)\n",
    "    rpp.profit_soft_constraint = pyo.Constraint(rule=profit_soft_constraint_rule)\n",
    "    \n",
    "    def release_constraint_rule(rpp, i):\n",
    "        return sum(rpp.y[l, i] * l for l in rpp.releases) == rpp.x[i]\n",
    "    rpp.release_constraint = pyo.Constraint(rpp.requirements, rule=release_constraint_rule)\n",
    "\n",
    "    def implementation_constraint_rule(rpp, i):\n",
    "        return sum(rpp.y[l, i] for l in rpp.releases) == 1\n",
    "    rpp.implementation_constraint = pyo.Constraint(rpp.requirements, rule=implementation_constraint_rule)\n",
    "\n",
    "    def cost_soft_constraint_rule(rpp, l):\n",
    "        return sum(rpp.cost[i] * rpp.y[l, i] for i in rpp.requirements) <= rpp.pm - rpp.a * (rpp.pm - rpp.pd)\n",
    "    rpp.cost_soft_constraint = pyo.Constraint(pyo.RangeSet(1, rpp.number_of_releases - 1), rule=cost_soft_constraint_rule)\n",
    "\n",
    "    def precende_constraint_rule(rpp, i, j):\n",
    "        return rpp.x[i] <= rpp.x[j]\n",
    "    rpp.precedence_constraint = pyo.Constraint(rpp.precedence, rule=precende_constraint_rule)\n",
    "    \n",
    "    return rpp"
   ]
  },
  {
   "cell_type": "markdown",
   "id": "33535e28-31ec-41e6-9e6d-1524540f426b",
   "metadata": {},
   "source": [
    "As we did before, we can test our model with the same problem we have been working thorugh these posts. We only have to add the following lines to our `data.dat`\n",
    "\n",
    "```text\n",
    "param pm := 50;\n",
    "param f0 := -720;\n",
    "\n",
    "param pd := 40;\n",
    "param f1 := -960;\n",
    "```\n",
    "Here,`pm` and `pd` are user defined values.  `f1` and `f0` obtained solving the original rpp model.\n",
    "\n",
    "With these changes, we can solve the model"
   ]
  },
  {
   "cell_type": "code",
   "execution_count": 91,
   "id": "0f858d81-22bb-4181-8e83-659bd9eb4f8d",
   "metadata": {},
   "outputs": [
    {
     "data": {
      "text/plain": [
       "<SolverStatus.ok: 'ok'>"
      ]
     },
     "execution_count": 91,
     "metadata": {},
     "output_type": "execute_result"
    }
   ],
   "source": [
    "from time import perf_counter\n",
    "\n",
    "\n",
    "rpp = abstract_model()\n",
    "solver_name = 'cbc'\n",
    "data_file = \"./datasets/rpp_data_soft.dat\"\n",
    "rpp_concrete = rpp.create_instance(data=data_file)\n",
    "solver = pyo.SolverFactory(solver_name)\n",
    "\n",
    "\n",
    "A_normalizate(rpp_concrete)\n",
    "\n",
    "res = solver.solve(rpp_concrete)\n",
    "\n",
    "res['Solver'][0]['Status']"
   ]
  },
  {
   "cell_type": "markdown",
   "id": "c9a82acf-7cd4-4935-9cf2-fe769cd584d2",
   "metadata": {},
   "source": [
    "The solution for the RPP model with $p=50$\n",
    "```text\n",
    "x : Size=5, Index=requirements\n",
    "    Key : Lower : Value : Upper : Fixed : Stale : Domain\n",
    "      1 :  None :   1.0 :  None : False : False : Integers\n",
    "      2 :  None :   2.0 :  None : False : False : Integers\n",
    "      3 :  None :   2.0 :  None : False : False : Integers\n",
    "      4 :  None :   3.0 :  None : False : False : Integers\n",
    "      5 :  None :   1.0 :  None : False : False : Integers\n",
    "```\n",
    "\n",
    "And for $p=40$\n",
    "```text\n",
    "x : Size=5, Index=requirements\n",
    "    Key : Lower : Value : Upper : Fixed : Stale : Domain\n",
    "      1 :  None :   1.0 :  None : False : False : Integers\n",
    "      2 :  None :   3.0 :  None : False : False : Integers\n",
    "      3 :  None :   2.0 :  None : False : False : Integers\n",
    "      4 :  None :   3.0 :  None : False : False : Integers\n",
    "      5 :  None :   2.0 :  None : False : False : Integers\n",
    "```\n",
    "\n",
    "If we display the solution of the soft model, we'll see that it's a mix between the previous two solutions; where it's not as greedy as the first one and not as conservative as the second one. "
   ]
  },
  {
   "cell_type": "code",
   "execution_count": 66,
   "id": "9242400b-c484-4fba-bdc3-592713bec406",
   "metadata": {},
   "outputs": [
    {
     "name": "stdout",
     "output_type": "stream",
     "text": [
      "x : Size=5, Index=requirements\n",
      "    Key : Lower : Value : Upper : Fixed : Stale : Domain\n",
      "      1 :  None :   1.0 :  None : False : False : Integers\n",
      "      2 :  None :   2.0 :  None : False : False : Integers\n",
      "      3 :  None :   2.0 :  None : False : False : Integers\n",
      "      4 :  None :   3.0 :  None : False : False : Integers\n",
      "      5 :  None :   3.0 :  None : False : False : Integers\n"
     ]
    }
   ],
   "source": [
    "pyo.display(rpp_concrete.x)"
   ]
  },
  {
   "cell_type": "markdown",
   "id": "8e7506bb-bd5f-40b6-ac94-5cb9f971e76d",
   "metadata": {},
   "source": [
    "This change can be seen ff we display the cost soft constraint. Tt'll show that the first release has a body of $-10$. This means that the first release is 10 units below the maximum cost. To check if this is true, we can make the sum of the constraint"
   ]
  },
  {
   "cell_type": "code",
   "execution_count": 68,
   "id": "47a1969e-cf40-4619-b612-b6c8963289f8",
   "metadata": {},
   "outputs": [
    {
     "name": "stdout",
     "output_type": "stream",
     "text": [
      "cost_soft_constraint : Size=2\n",
      "    Key : Lower : Body  : Upper\n",
      "      1 :  None : -10.0 :   0.0\n",
      "      2 :  None :   0.0 :   0.0\n"
     ]
    }
   ],
   "source": [
    "pyo.display(rpp_concrete.cost_soft_constraint)"
   ]
  },
  {
   "cell_type": "code",
   "execution_count": 92,
   "id": "197a2a34-0db5-4b8b-81cd-53fa3df35ddb",
   "metadata": {},
   "outputs": [
    {
     "data": {
      "text/plain": [
       "40.0"
      ]
     },
     "execution_count": 92,
     "metadata": {},
     "output_type": "execute_result"
    }
   ],
   "source": [
    "# cont_soft_constraint: \n",
    "# sum(rpp.cost[i] * rpp.y[l, i] for i in rpp.requirements) <= rpp.pm - rpp.a * (rpp.pm - rpp.pd)\n",
    "l = 1 # First release\n",
    "acc = 0.0\n",
    "for i in rpp_concrete.requirements.data():\n",
    "    acc += rpp_concrete.cost[i] * rpp_concrete.y[l,i].value\n",
    "acc"
   ]
  },
  {
   "cell_type": "markdown",
   "id": "a8a93405-d0c8-44a6-9f38-9dc21d607369",
   "metadata": {},
   "source": [
    "# Conclusion\n",
    "This model has shown that using fuzzy logic is not as hard as it seems and it can provide a good way of modelling uncertanty. Furthermore, we only have used it in one constraint, but it ca be used in almost every way you can imagine.\n",
    "\n",
    "In the next posts, we'll see that this comes with a downside. Using fuzzy logic increase the computational resources requiered to solve the problem and using an algorithm may not be the best option; so we'll need another method to find a solution."
   ]
  }
 ],
 "metadata": {
  "kernelspec": {
   "display_name": "Python 3 (ipykernel)",
   "language": "python",
   "name": "python3"
  },
  "language_info": {
   "codemirror_mode": {
    "name": "ipython",
    "version": 3
   },
   "file_extension": ".py",
   "mimetype": "text/x-python",
   "name": "python",
   "nbconvert_exporter": "python",
   "pygments_lexer": "ipython3",
   "version": "3.8.10"
  }
 },
 "nbformat": 4,
 "nbformat_minor": 5
}
